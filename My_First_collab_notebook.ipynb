{
  "nbformat": 4,
  "nbformat_minor": 0,
  "metadata": {
    "colab": {
      "name": "My First collab notebook.ipynb",
      "provenance": [],
      "include_colab_link": true
    },
    "kernelspec": {
      "name": "python3",
      "display_name": "Python 3"
    },
    "language_info": {
      "name": "python"
    }
  },
  "cells": [
    {
      "cell_type": "markdown",
      "metadata": {
        "id": "view-in-github",
        "colab_type": "text"
      },
      "source": [
        "<a href=\"https://colab.research.google.com/github/JagadeeshJD/BasicML/blob/main/My_First_collab_notebook.ipynb\" target=\"_parent\"><img src=\"https://colab.research.google.com/assets/colab-badge.svg\" alt=\"Open In Colab\"/></a>"
      ]
    },
    {
      "cell_type": "markdown",
      "metadata": {
        "id": "wanKQoyhsCqw"
      },
      "source": [
        "Basic ML"
      ]
    },
    {
      "cell_type": "markdown",
      "metadata": {
        "id": "gsNjFd56uX8i"
      },
      "source": [
        "1.Program to print \"Hello World!\"."
      ]
    },
    {
      "cell_type": "code",
      "metadata": {
        "colab": {
          "base_uri": "https://localhost:8080/"
        },
        "id": "HNxkLPJruig3",
        "outputId": "58bd5dd1-76a4-4cfb-bc66-198437af7fad"
      },
      "source": [
        "print(\"Hello World!\")"
      ],
      "execution_count": null,
      "outputs": [
        {
          "output_type": "stream",
          "text": [
            "Hello World!\n"
          ],
          "name": "stdout"
        }
      ]
    },
    {
      "cell_type": "markdown",
      "metadata": {
        "id": "XhkuoIjeuRpo"
      },
      "source": [
        " 2.Program to sum of First \"n\" natural numbers."
      ]
    },
    {
      "cell_type": "code",
      "metadata": {
        "colab": {
          "base_uri": "https://localhost:8080/"
        },
        "id": "6Pz3OkvIseGF",
        "outputId": "cfee992e-3808-44f7-af61-dc1e20923700"
      },
      "source": [
        "n=int(input())\n",
        "X=0\n",
        "for i in range(1,n+1):\n",
        "     X+=i\n",
        "print(\"Sum of First\",n,\"Natural Numbers =\",X)"
      ],
      "execution_count": null,
      "outputs": [
        {
          "output_type": "stream",
          "text": [
            "100\n",
            "Sum of First 100 Natural Numbers = 5050\n"
          ],
          "name": "stdout"
        }
      ]
    },
    {
      "cell_type": "markdown",
      "metadata": {
        "id": "Intf3Vv4uKa2"
      },
      "source": [
        "2.Program to check whether a number is Even or Odd."
      ]
    },
    {
      "cell_type": "code",
      "metadata": {
        "colab": {
          "base_uri": "https://localhost:8080/"
        },
        "id": "WQpmycwivh_3",
        "outputId": "bf5672f3-6340-4a5f-d782-170233bbfa25"
      },
      "source": [
        "n=int(input())\n",
        "if n%2==0:\n",
        "      print(n,\"is Even Number\")\n",
        "else:\n",
        "      print(n,\"is Odd Number\")"
      ],
      "execution_count": null,
      "outputs": [
        {
          "output_type": "stream",
          "text": [
            "29\n",
            "29 is Odd Number\n"
          ],
          "name": "stdout"
        }
      ]
    },
    {
      "cell_type": "markdown",
      "metadata": {
        "id": "gmrijif0wPqf"
      },
      "source": [
        "3.Program to find Largest and Smallest numbers in a given list of elements."
      ]
    },
    {
      "cell_type": "code",
      "metadata": {
        "colab": {
          "base_uri": "https://localhost:8080/"
        },
        "id": "nSBf3riWwZzM",
        "outputId": "353a252a-2ee9-49a7-bf90-f50903e25711"
      },
      "source": [
        "L=[int(x) for x in input().split()]\n",
        "L.sort()\n",
        "print(L[-1],\"is the Largest Number in list L\")\n",
        "print(L[0],\"is the Smallest Number in list L\")"
      ],
      "execution_count": null,
      "outputs": [
        {
          "output_type": "stream",
          "text": [
            "2 3 0 43 7 9\n",
            "43 is the Largest Number in list L\n",
            "0 is the Smallest Number in list L\n"
          ],
          "name": "stdout"
        }
      ]
    }
  ]
}